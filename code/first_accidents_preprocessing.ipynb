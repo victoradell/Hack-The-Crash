{
 "cells": [
  {
   "cell_type": "code",
   "execution_count": 43,
   "metadata": {},
   "outputs": [],
   "source": [
    "import numpy as np\n",
    "import pandas as pd\n",
    "import matplotlib.pyplot as plt\n",
    "import datetime"
   ]
  },
  {
   "cell_type": "code",
   "execution_count": 73,
   "metadata": {},
   "outputs": [],
   "source": [
    "# Reading data and elimination of outliers\n",
    "acc = pd.read_csv('dataset/accidents.csv').drop_duplicates()\n",
    "acc = acc[acc.speed_limit<300] #Too fast\n",
    "acc = acc[acc.latitude>40] # Not in UK\n",
    "veh = pd.read_csv('dataset/vehicles.csv').drop_duplicates()"
   ]
  },
  {
   "cell_type": "code",
   "execution_count": 75,
   "metadata": {},
   "outputs": [],
   "source": [
    "# Elimination and first processing\n",
    "acc=acc[['accident_id', 'number_of_vehicles', 'number_of_casualties',\n",
    "       'date', 'time', '1st_road_class', 'road_type',\n",
    "       'speed_limit', 'junction_detail', 'junction_control', '2nd_road_class',\n",
    "       'pedestrian_crossing-human_control',\n",
    "       'pedestrian_crossing-physical_facilities', 'light_conditions',\n",
    "       'weather_conditions', 'road_surface_conditions',\n",
    "       'urban_or_rural_area','target']]"
   ]
  },
  {
   "cell_type": "code",
   "execution_count": 76,
   "metadata": {},
   "outputs": [],
   "source": [
    "categorical = dict([[name, True] for name in acc.columns])"
   ]
  },
  {
   "cell_type": "code",
   "execution_count": 77,
   "metadata": {},
   "outputs": [],
   "source": [
    "acc['number_of_vehicles'] = acc['number_of_vehicles']\n",
    "categorical['number_of_vehicles'] = False"
   ]
  },
  {
   "cell_type": "code",
   "execution_count": 78,
   "metadata": {},
   "outputs": [],
   "source": [
    "acc['number_of_casualties'] = acc['number_of_casualties']\n",
    "categorical['number_of_casualties'] = False"
   ]
  },
  {
   "cell_type": "code",
   "execution_count": 79,
   "metadata": {},
   "outputs": [],
   "source": [
    "acc['date'] = acc.date.apply(lambda x: datetime.date(int(x[0:4]), int(x[5:7]), int(x[8:10])).weekday())"
   ]
  },
  {
   "cell_type": "code",
   "execution_count": 80,
   "metadata": {},
   "outputs": [],
   "source": [
    "# Cyclical encoding\n",
    "acc['time_sin'] = acc.time.apply(lambda x: np.sin(60*int(x[0:2]) + int(x[3:5])/(4/360*2*np.pi)))\n",
    "acc['time_cos'] = acc.time.apply(lambda x: np.cos(60*int(x[0:2]) + int(x[3:5])/(4/360*2*np.pi)))\n",
    "acc=acc.drop(columns='time')\n",
    "categorical['time_sin'] = False\n",
    "categorical['time_cos'] = False"
   ]
  },
  {
   "cell_type": "code",
   "execution_count": 82,
   "metadata": {},
   "outputs": [],
   "source": [
    "# Numerical transformation and value replacing\n",
    "translate_road = {\n",
    "    '-1': -1,\n",
    "    'Motorway': 0,\n",
    "    'A(M)': 0,\n",
    "    'A': 1,\n",
    "    'B': 2,\n",
    "    'C': 3,\n",
    "    'Unclassified': 4\n",
    "}\n",
    "def trash(x):\n",
    "    if (x['2nd_road_class']==-1):\n",
    "        return x['1st_road_class']\n",
    "    else:\n",
    "        return x['2nd_road_class']\n",
    "acc['1st_road_class'] = acc['1st_road_class'].apply(lambda x : translate_road[x])\n",
    "acc['2nd_road_class'] = acc['2nd_road_class'].apply(lambda x : translate_road[x])\n",
    "acc['2nd_road_class']=acc.apply(lambda x: trash(x), axis=1)\n",
    "w=acc.apply(lambda x: min(x['1st_road_class'], x['2nd_road_class']), axis=1).copy()\n",
    "acc['2nd_road_class']=acc.apply(lambda x: max(x['1st_road_class'], x['2nd_road_class']), axis=1)\n",
    "acc['1st_road_class']=w"
   ]
  },
  {
   "cell_type": "code",
   "execution_count": 83,
   "metadata": {},
   "outputs": [],
   "source": [
    "acc['speed_limit'] = acc.speed_limit.apply(lambda x: int(x))\n",
    "categorical['speed_li'] = False"
   ]
  },
  {
   "cell_type": "code",
   "execution_count": 84,
   "metadata": {},
   "outputs": [],
   "source": [
    "acc['junction_detail'] = acc['junction_detail']"
   ]
  },
  {
   "cell_type": "code",
   "execution_count": 85,
   "metadata": {},
   "outputs": [],
   "source": [
    "acc['junction_control'] = acc['junction_control']"
   ]
  },
  {
   "cell_type": "code",
   "execution_count": 86,
   "metadata": {},
   "outputs": [],
   "source": [
    "acc['pedestrian_crossing-human_control'] = acc['pedestrian_crossing-human_control']"
   ]
  },
  {
   "cell_type": "code",
   "execution_count": 87,
   "metadata": {},
   "outputs": [],
   "source": [
    "acc['pedestrian_crossing-physical_facilities'] = acc['pedestrian_crossing-physical_facilities']"
   ]
  },
  {
   "cell_type": "code",
   "execution_count": 88,
   "metadata": {},
   "outputs": [],
   "source": [
    "acc['light_conditions'] = acc['light_conditions']"
   ]
  },
  {
   "cell_type": "code",
   "execution_count": 89,
   "metadata": {},
   "outputs": [],
   "source": [
    "acc['weather_conditions'] = acc['weather_conditions']"
   ]
  },
  {
   "cell_type": "code",
   "execution_count": 90,
   "metadata": {},
   "outputs": [],
   "source": [
    "acc['road_surface_conditions'] = acc['road_surface_conditions']"
   ]
  },
  {
   "cell_type": "code",
   "execution_count": 91,
   "metadata": {},
   "outputs": [],
   "source": [
    "acc.to_csv('acc_first_preprocessing.csv')"
   ]
  }
 ],
 "metadata": {
  "kernelspec": {
   "display_name": "Python 3",
   "language": "python",
   "name": "python3"
  },
  "language_info": {
   "codemirror_mode": {
    "name": "ipython",
    "version": 3
   },
   "file_extension": ".py",
   "mimetype": "text/x-python",
   "name": "python",
   "nbconvert_exporter": "python",
   "pygments_lexer": "ipython3",
   "version": "3.6.8"
  }
 },
 "nbformat": 4,
 "nbformat_minor": 4
}
