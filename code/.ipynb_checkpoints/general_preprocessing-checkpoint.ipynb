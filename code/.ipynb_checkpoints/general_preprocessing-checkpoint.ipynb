{
 "cells": [
  {
   "cell_type": "code",
   "execution_count": 677,
   "metadata": {},
   "outputs": [],
   "source": [
    "import numpy as np\n",
    "import pandas as pd\n",
    "import matplotlib.pyplot as plt\n",
    "import datetime\n",
    "import scipy\n",
    "import sklearn\n",
    "from category_encoders.target_encoder import TargetEncoder\n",
    "from sklearn import preprocessing"
   ]
  },
  {
   "cell_type": "markdown",
   "metadata": {},
   "source": [
    "## Train preprocessing"
   ]
  },
  {
   "cell_type": "code",
   "execution_count": 679,
   "metadata": {},
   "outputs": [],
   "source": [
    "acc = pd.read_csv('acc_first_preprocessing.csv').drop_duplicates()\n",
    "veh = pd.read_csv('dataset/vehicles_train.csv').drop_duplicates()"
   ]
  },
  {
   "cell_type": "code",
   "execution_count": 680,
   "metadata": {},
   "outputs": [],
   "source": [
    "# Adding targets to the vehicles dataset\n",
    "veh = pd.merge(acc[['accident_id','target']], veh, on='accident_id')"
   ]
  },
  {
   "cell_type": "code",
   "execution_count": 681,
   "metadata": {},
   "outputs": [],
   "source": [
    "veh=veh[['accident_id',\n",
    "       'Vehicle_Type', 'Towing_and_Articulation', 'Vehicle_Manoeuvre',\n",
    "       'Vehicle_Location-Restricted_Lane', 'Junction_Location',\n",
    "       'Skidding_and_Overturning', 'Hit_Object_in_Carriageway',\n",
    "       'Vehicle_Leaving_Carriageway', 'Hit_Object_off_Carriageway',\n",
    "       '1st_Point_of_Impact', 'Was_Vehicle_Left_Hand_Drive?',\n",
    "       'Journey_Purpose_of_Driver', 'Sex_of_Driver', 'Age_of_Driver', 'Age_of_Vehicle',\n",
    "       'Driver_IMD_Decile', 'Driver_Home_Area_Type', 'Vehicle_IMD_Decile','target']]"
   ]
  },
  {
   "cell_type": "code",
   "execution_count": 683,
   "metadata": {},
   "outputs": [],
   "source": [
    "targett=veh[['target','accident_id']].copy()\n",
    "veh2 = veh.copy()\n",
    "veh2 = veh2[veh2.columns.difference(['target'])]"
   ]
  },
  {
   "cell_type": "code",
   "execution_count": 684,
   "metadata": {},
   "outputs": [],
   "source": [
    "# Target encoding in categorical variables\n",
    "target_encoder_cols=[\n",
    "       'Vehicle_Type', 'Towing_and_Articulation', 'Vehicle_Manoeuvre',\n",
    "       'Vehicle_Location-Restricted_Lane', 'Junction_Location',\n",
    "       'Skidding_and_Overturning', 'Hit_Object_in_Carriageway',\n",
    "       'Vehicle_Leaving_Carriageway', 'Hit_Object_off_Carriageway',\n",
    "       '1st_Point_of_Impact', 'Was_Vehicle_Left_Hand_Drive?',\n",
    "       'Journey_Purpose_of_Driver', 'Sex_of_Driver',\n",
    "       'Driver_IMD_Decile', 'Driver_Home_Area_Type', 'Vehicle_IMD_Decile']\n",
    "veh_enc = TargetEncoder(cols=target_encoder_cols)\n",
    "veh = veh_enc.fit_transform(veh2, veh.target)"
   ]
  },
  {
   "cell_type": "code",
   "execution_count": 685,
   "metadata": {},
   "outputs": [],
   "source": [
    "# Function to distinguish clumn names when merging datasets\n",
    "def renaming(l, word):\n",
    "    l2=[]\n",
    "    for i in l:\n",
    "        if (i!='accident_id'):\n",
    "            l2.append(i+'_'+word)\n",
    "        else:\n",
    "            l2.append(i)\n",
    "    return l2"
   ]
  },
  {
   "cell_type": "code",
   "execution_count": 686,
   "metadata": {},
   "outputs": [
    {
     "name": "stdout",
     "output_type": "stream",
     "text": [
      "136575\n"
     ]
    }
   ],
   "source": [
    "# Max, mean and min transformation (dealing with variable number of cars)\n",
    "maximum=veh.groupby(['accident_id']).max().reset_index()\n",
    "maximum.columns=renaming(maximum.columns,'max')\n",
    "average=veh.groupby(['accident_id']).mean().reset_index()\n",
    "average.columns=renaming(average.columns,'mean')\n",
    "minimum=veh.groupby(['accident_id']).min().reset_index()\n",
    "minimum.columns=renaming(minimum.columns,'min')\n",
    "a=pd.merge(maximum,average,on=['accident_id'])\n",
    "final_veh=pd.merge(a,minimum,on=['accident_id'])\n",
    "print(len(final_veh))\n",
    "final_veh=pd.merge(final_veh,targett,on=['accident_id'], how='left')"
   ]
  },
  {
   "cell_type": "code",
   "execution_count": 1077,
   "metadata": {},
   "outputs": [],
   "source": [
    "acc=pd.read_csv('acc_first_preprocessing.csv',index_col=0)"
   ]
  },
  {
   "cell_type": "code",
   "execution_count": 689,
   "metadata": {},
   "outputs": [],
   "source": [
    "# Target encoding of accidents categorical variables\n",
    "acc_copy = acc.copy()\n",
    "acc_copy = acc_copy[acc_copy.columns.difference(['target'])]\n",
    "target_encoder_cols=['number_of_vehicles',\n",
    "       'number_of_casualties', '1st_road_class', 'road_type',\n",
    "       'speed_limit', 'junction_detail', 'junction_control', '2nd_road_class',\n",
    "       'pedestrian_crossing-human_control',\n",
    "       'pedestrian_crossing-physical_facilities', 'light_conditions',\n",
    "       'weather_conditions', 'road_surface_conditions', 'urban_or_rural_area']\n",
    "acc_enc = TargetEncoder(cols=target_encoder_cols)\n",
    "acc_target = acc_enc.fit_transform(acc_copy, acc.target)\n",
    "acc_target.columns=renaming(acc_copy.columns,'target')"
   ]
  },
  {
   "cell_type": "code",
   "execution_count": 692,
   "metadata": {},
   "outputs": [],
   "source": [
    "label_cols=['number_of_casualties', '1st_road_class', 'road_type', 'speed_limit', 'junction_detail',\n",
    "       'junction_control', '2nd_road_class',\n",
    "       'pedestrian_crossing-human_control',\n",
    "       'pedestrian_crossing-physical_facilities', 'light_conditions',\n",
    "       'weather_conditions', 'road_surface_conditions', 'urban_or_rural_area']"
   ]
  },
  {
   "cell_type": "code",
   "execution_count": 693,
   "metadata": {},
   "outputs": [],
   "source": [
    "# Label encoding of categorical variables\n",
    "acc_label=acc.copy()\n",
    "acc_label = acc_label[acc_label.columns.difference(['target'])]\n",
    "for i in label_cols:\n",
    "    acc_enc2 = preprocessing.LabelEncoder()\n",
    "    acc_label[i] = pd.DataFrame(acc_enc2.fit_transform(acc[i].to_numpy()))\n",
    "acc_label.columns=renaming(acc_label.columns,'label')"
   ]
  },
  {
   "cell_type": "code",
   "execution_count": 694,
   "metadata": {},
   "outputs": [],
   "source": [
    "# Merge of the three datasets previously created\n",
    "acc_total=pd.merge(acc_label,acc_target,on='accident_id')\n",
    "final=pd.merge(acc_total,final_veh,on='accident_id')"
   ]
  },
  {
   "cell_type": "code",
   "execution_count": 696,
   "metadata": {},
   "outputs": [],
   "source": [
    "final=final[['1st_road_class_label', '2nd_road_class_label',\n",
    "       'date_label', 'junction_control_label', 'junction_detail_label',\n",
    "       'light_conditions_label', 'number_of_casualties_label',\n",
    "       'number_of_vehicles_label', 'pedestrian_crossing-human_control_label',\n",
    "       'pedestrian_crossing-physical_facilities_label',\n",
    "       'road_surface_conditions_label', 'road_type_label', 'speed_limit_label',\n",
    "       'time_cos_label', 'time_sin_label', 'urban_or_rural_area_label',\n",
    "       'weather_conditions_label', '1st_road_class_target',\n",
    "       '2nd_road_class_target', 'date_target', 'junction_control_target',\n",
    "       'junction_detail_target', 'light_conditions_target',\n",
    "       'number_of_casualties_target', 'number_of_vehicles_target',\n",
    "       'pedestrian_crossing-human_control_target',\n",
    "       'pedestrian_crossing-physical_facilities_target',\n",
    "       'road_surface_conditions_target', 'road_type_target',\n",
    "       'speed_limit_target',\n",
    "       'urban_or_rural_area_target', 'weather_conditions_target',\n",
    "       '1st_Point_of_Impact_max', 'Age_of_Driver_max', 'Age_of_Vehicle_max',\n",
    "       'Driver_Home_Area_Type_max', 'Driver_IMD_Decile_max',\n",
    "       'Hit_Object_in_Carriageway_max', 'Hit_Object_off_Carriageway_max',\n",
    "       'Journey_Purpose_of_Driver_max', 'Junction_Location_max',\n",
    "       'Sex_of_Driver_max', 'Skidding_and_Overturning_max',\n",
    "       'Towing_and_Articulation_max', 'Vehicle_IMD_Decile_max',\n",
    "       'Vehicle_Leaving_Carriageway_max',\n",
    "       'Vehicle_Location-Restricted_Lane_max', 'Vehicle_Manoeuvre_max',\n",
    "       'Vehicle_Type_max', 'Was_Vehicle_Left_Hand_Drive?_max',\n",
    "       '1st_Point_of_Impact_mean', 'Age_of_Driver_mean', 'Age_of_Vehicle_mean',\n",
    "       'Driver_Home_Area_Type_mean', 'Driver_IMD_Decile_mean',\n",
    "       'Hit_Object_in_Carriageway_mean', 'Hit_Object_off_Carriageway_mean',\n",
    "       'Journey_Purpose_of_Driver_mean', 'Junction_Location_mean',\n",
    "       'Sex_of_Driver_mean', 'Skidding_and_Overturning_mean',\n",
    "       'Towing_and_Articulation_mean', 'Vehicle_IMD_Decile_mean',\n",
    "       'Vehicle_Leaving_Carriageway_mean',\n",
    "       'Vehicle_Location-Restricted_Lane_mean', 'Vehicle_Manoeuvre_mean',\n",
    "       'Vehicle_Type_mean', 'Was_Vehicle_Left_Hand_Drive?_mean',\n",
    "       '1st_Point_of_Impact_min', 'Age_of_Driver_min', 'Age_of_Vehicle_min',\n",
    "       'Driver_Home_Area_Type_min', 'Driver_IMD_Decile_min',\n",
    "       'Hit_Object_in_Carriageway_min', 'Hit_Object_off_Carriageway_min',\n",
    "       'Journey_Purpose_of_Driver_min', 'Junction_Location_min',\n",
    "       'Sex_of_Driver_min', 'Skidding_and_Overturning_min',\n",
    "       'Towing_and_Articulation_min', 'Vehicle_IMD_Decile_min',\n",
    "       'Vehicle_Leaving_Carriageway_min',\n",
    "       'Vehicle_Location-Restricted_Lane_min', 'Vehicle_Manoeuvre_min',\n",
    "       'Vehicle_Type_min', 'Was_Vehicle_Left_Hand_Drive?_min', 'target']]"
   ]
  },
  {
   "cell_type": "code",
   "execution_count": 697,
   "metadata": {},
   "outputs": [],
   "source": [
    "final=final.drop_duplicates()"
   ]
  },
  {
   "cell_type": "code",
   "execution_count": 698,
   "metadata": {},
   "outputs": [],
   "source": [
    "final.to_csv('preprocessed.csv')"
   ]
  },
  {
   "cell_type": "code",
   "execution_count": 700,
   "metadata": {},
   "outputs": [],
   "source": [
    "np.save('preprocessed.npy', final.to_numpy())"
   ]
  },
  {
   "cell_type": "markdown",
   "metadata": {},
   "source": [
    "### Test preprocessing"
   ]
  },
  {
   "cell_type": "code",
   "execution_count": 1044,
   "metadata": {},
   "outputs": [],
   "source": [
    "# We repeat the same preprocessing but now with the test dataset (without the target variable)\n",
    "acc = pd.read_csv('test_acc_first_preprocessing.csv').drop_duplicates()\n",
    "veh = pd.read_csv('dataset/vehicles.csv').drop_duplicates()"
   ]
  },
  {
   "cell_type": "code",
   "execution_count": 1045,
   "metadata": {},
   "outputs": [],
   "source": [
    "veh=pd.merge(acc,veh, on=['accident_id'], how='left')"
   ]
  },
  {
   "cell_type": "code",
   "execution_count": 1046,
   "metadata": {},
   "outputs": [],
   "source": [
    "veh=veh[['accident_id',\n",
    "       'Vehicle_Type', 'Towing_and_Articulation', 'Vehicle_Manoeuvre',\n",
    "       'Vehicle_Location-Restricted_Lane', 'Junction_Location',\n",
    "       'Skidding_and_Overturning', 'Hit_Object_in_Carriageway',\n",
    "       'Vehicle_Leaving_Carriageway', 'Hit_Object_off_Carriageway',\n",
    "       '1st_Point_of_Impact', 'Was_Vehicle_Left_Hand_Drive?',\n",
    "       'Journey_Purpose_of_Driver', 'Sex_of_Driver', 'Age_of_Driver', 'Age_of_Vehicle',\n",
    "       'Driver_IMD_Decile', 'Driver_Home_Area_Type', 'Vehicle_IMD_Decile']]"
   ]
  },
  {
   "cell_type": "code",
   "execution_count": 1047,
   "metadata": {},
   "outputs": [],
   "source": [
    "veh = veh_enc.transform(veh)"
   ]
  },
  {
   "cell_type": "code",
   "execution_count": 1050,
   "metadata": {},
   "outputs": [],
   "source": [
    "maximum=veh.groupby(['accident_id']).max().reset_index()\n",
    "maximum.columns=renaming(maximum.columns,'max')\n",
    "average=veh.groupby(['accident_id']).mean().reset_index()\n",
    "average.columns=renaming(average.columns,'mean')\n",
    "minimum=veh.groupby(['accident_id']).min().reset_index()\n",
    "minimum.columns=renaming(minimum.columns,'min')\n",
    "a=pd.merge(maximum,average,on=['accident_id'])\n",
    "final_veh=pd.merge(a,minimum,on=['accident_id'])"
   ]
  },
  {
   "cell_type": "code",
   "execution_count": 1052,
   "metadata": {},
   "outputs": [],
   "source": [
    "acc=pd.read_csv('test_acc_first_preprocessing.csv',index_col=0)"
   ]
  },
  {
   "cell_type": "code",
   "execution_count": 1054,
   "metadata": {},
   "outputs": [],
   "source": [
    "acc=acc[['accident_id', 'number_of_vehicles', 'number_of_casualties', 'date',\n",
    "        '1st_road_class', 'road_type', 'speed_limit', 'junction_detail',\n",
    "       'junction_control', '2nd_road_class',\n",
    "       'pedestrian_crossing-human_control',\n",
    "       'pedestrian_crossing-physical_facilities', 'light_conditions',\n",
    "       'weather_conditions', 'road_surface_conditions', 'urban_or_rural_area',\n",
    "       'time_sin', 'time_cos']]"
   ]
  },
  {
   "cell_type": "code",
   "execution_count": 1055,
   "metadata": {},
   "outputs": [],
   "source": [
    "acc_target = acc_enc.transform(acc)\n",
    "acc_target.columns=renaming(acc_target.columns,'target')"
   ]
  },
  {
   "cell_type": "code",
   "execution_count": 1056,
   "metadata": {},
   "outputs": [],
   "source": [
    "label_cols=['number_of_casualties', '1st_road_class', 'road_type', 'speed_limit', 'junction_detail',\n",
    "       'junction_control', '2nd_road_class',\n",
    "       'pedestrian_crossing-human_control',\n",
    "       'pedestrian_crossing-physical_facilities', 'light_conditions',\n",
    "       'weather_conditions', 'road_surface_conditions', 'urban_or_rural_area']"
   ]
  },
  {
   "cell_type": "code",
   "execution_count": 1057,
   "metadata": {},
   "outputs": [],
   "source": [
    "acc_label=acc.copy()\n",
    "for i in label_cols:\n",
    "    acc_enc2 = preprocessing.LabelEncoder()\n",
    "    acc_label[i] = pd.DataFrame(acc_enc2.fit_transform(acc[i].to_numpy()))\n",
    "acc_label.columns=renaming(acc_label.columns,'label')"
   ]
  },
  {
   "cell_type": "code",
   "execution_count": 1059,
   "metadata": {},
   "outputs": [],
   "source": [
    "acc_total=pd.merge(acc_label,acc_target,on='accident_id')"
   ]
  },
  {
   "cell_type": "code",
   "execution_count": 1061,
   "metadata": {},
   "outputs": [],
   "source": [
    "final=pd.merge(acc_total,final_veh,on='accident_id')"
   ]
  },
  {
   "cell_type": "code",
   "execution_count": 1062,
   "metadata": {},
   "outputs": [],
   "source": [
    "final=final.drop(columns=['time_sin_target','time_cos_target'])"
   ]
  },
  {
   "cell_type": "code",
   "execution_count": 1064,
   "metadata": {},
   "outputs": [],
   "source": [
    "final=final[['accident_id', 'number_of_vehicles_label', 'number_of_casualties_label',\n",
    "       'date_label', '1st_road_class_label', 'road_type_label',\n",
    "       'speed_limit_label', 'junction_detail_label', 'junction_control_label',\n",
    "       '2nd_road_class_label', 'pedestrian_crossing-human_control_label',\n",
    "       'pedestrian_crossing-physical_facilities_label',\n",
    "       'light_conditions_label', 'weather_conditions_label',\n",
    "       'road_surface_conditions_label', 'urban_or_rural_area_label',\n",
    "       'time_sin_label', 'time_cos_label', 'number_of_vehicles_target',\n",
    "       'number_of_casualties_target', 'date_target', '1st_road_class_target',\n",
    "       'road_type_target', 'speed_limit_target', 'junction_detail_target',\n",
    "       'junction_control_target', '2nd_road_class_target',\n",
    "       'pedestrian_crossing-human_control_target',\n",
    "       'pedestrian_crossing-physical_facilities_target',\n",
    "       'light_conditions_target', 'weather_conditions_target',\n",
    "       'road_surface_conditions_target', 'urban_or_rural_area_target',\n",
    "       'Vehicle_Type_max', 'Towing_and_Articulation_max',\n",
    "       'Vehicle_Manoeuvre_max', 'Vehicle_Location-Restricted_Lane_max',\n",
    "       'Junction_Location_max', 'Skidding_and_Overturning_max',\n",
    "       'Hit_Object_in_Carriageway_max', 'Vehicle_Leaving_Carriageway_max',\n",
    "       'Hit_Object_off_Carriageway_max', '1st_Point_of_Impact_max',\n",
    "       'Was_Vehicle_Left_Hand_Drive?_max', 'Journey_Purpose_of_Driver_max',\n",
    "       'Sex_of_Driver_max', 'Age_of_Driver_max', 'Age_of_Vehicle_max',\n",
    "       'Driver_IMD_Decile_max', 'Driver_Home_Area_Type_max',\n",
    "       'Vehicle_IMD_Decile_max', 'Vehicle_Type_mean',\n",
    "       'Towing_and_Articulation_mean', 'Vehicle_Manoeuvre_mean',\n",
    "       'Vehicle_Location-Restricted_Lane_mean', 'Junction_Location_mean',\n",
    "       'Skidding_and_Overturning_mean', 'Hit_Object_in_Carriageway_mean',\n",
    "       'Vehicle_Leaving_Carriageway_mean', 'Hit_Object_off_Carriageway_mean',\n",
    "       '1st_Point_of_Impact_mean', 'Was_Vehicle_Left_Hand_Drive?_mean',\n",
    "       'Journey_Purpose_of_Driver_mean', 'Sex_of_Driver_mean',\n",
    "       'Age_of_Driver_mean', 'Age_of_Vehicle_mean', 'Driver_IMD_Decile_mean',\n",
    "       'Driver_Home_Area_Type_mean', 'Vehicle_IMD_Decile_mean',\n",
    "       'Vehicle_Type_min', 'Towing_and_Articulation_min',\n",
    "       'Vehicle_Manoeuvre_min', 'Vehicle_Location-Restricted_Lane_min',\n",
    "       'Junction_Location_min', 'Skidding_and_Overturning_min',\n",
    "       'Hit_Object_in_Carriageway_min', 'Vehicle_Leaving_Carriageway_min',\n",
    "       'Hit_Object_off_Carriageway_min', '1st_Point_of_Impact_min',\n",
    "       'Was_Vehicle_Left_Hand_Drive?_min', 'Journey_Purpose_of_Driver_min',\n",
    "       'Sex_of_Driver_min', 'Age_of_Driver_min', 'Age_of_Vehicle_min',\n",
    "       'Driver_IMD_Decile_min', 'Driver_Home_Area_Type_min','Vehicle_IMD_Decile_min']]"
   ]
  },
  {
   "cell_type": "code",
   "execution_count": 1066,
   "metadata": {},
   "outputs": [],
   "source": [
    "# Function to fill the accident rows without vehicles associated\n",
    "from random import random\n",
    "import random\n",
    "def randi(x,data):\n",
    "    if (str(x)=='nan'):\n",
    "        return float(random.choice(data.notnull()))\n",
    "    else:\n",
    "        return x"
   ]
  },
  {
   "cell_type": "code",
   "execution_count": 1078,
   "metadata": {},
   "outputs": [],
   "source": [
    "final2=final.copy()\n",
    "for i in list(final.columns):\n",
    "    final[i]=final[i].apply(lambda x: randi(x,final2[i]))"
   ]
  },
  {
   "cell_type": "code",
   "execution_count": 989,
   "metadata": {},
   "outputs": [],
   "source": [
    "final.to_csv('test.csv')"
   ]
  },
  {
   "cell_type": "code",
   "execution_count": 991,
   "metadata": {},
   "outputs": [],
   "source": [
    "np.save('test.npy', final.to_numpy())"
   ]
  }
 ],
 "metadata": {
  "kernelspec": {
   "display_name": "Python 3",
   "language": "python",
   "name": "python3"
  },
  "language_info": {
   "codemirror_mode": {
    "name": "ipython",
    "version": 3
   },
   "file_extension": ".py",
   "mimetype": "text/x-python",
   "name": "python",
   "nbconvert_exporter": "python",
   "pygments_lexer": "ipython3",
   "version": "3.6.8"
  }
 },
 "nbformat": 4,
 "nbformat_minor": 4
}
